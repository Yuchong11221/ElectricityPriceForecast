{
 "cells": [
  {
   "cell_type": "code",
   "execution_count": null,
   "id": "c6df6b97",
   "metadata": {},
   "outputs": [
    {
     "name": "stdout",
     "output_type": "stream",
     "text": [
      " * Serving Flask app '__main__' (lazy loading)\n",
      " * Environment: production\n",
      "\u001b[31m   WARNING: This is a development server. Do not use it in a production deployment.\u001b[0m\n",
      "\u001b[2m   Use a production WSGI server instead.\u001b[0m\n",
      " * Debug mode: off\n"
     ]
    },
    {
     "name": "stderr",
     "output_type": "stream",
     "text": [
      " * Running on http://127.0.0.1:8309/ (Press CTRL+C to quit)\n",
      "127.0.0.1 - - [28/Aug/2021 20:36:24] \"GET / HTTP/1.1\" 200 -\n",
      "127.0.0.1 - - [28/Aug/2021 20:36:24] \"GET /static/Home.css HTTP/1.1\" 304 -\n",
      "127.0.0.1 - - [28/Aug/2021 20:36:24] \"GET /static/nicepage.css HTTP/1.1\" 304 -\n",
      "127.0.0.1 - - [28/Aug/2021 20:36:24] \"GET /static/bootstrap/css/bootstrap.min.css HTTP/1.1\" 304 -\n",
      "127.0.0.1 - - [28/Aug/2021 20:36:24] \"GET /static/bootstrap/css/bootstrap-datetimepicker.min.css HTTP/1.1\" 304 -\n",
      "127.0.0.1 - - [28/Aug/2021 20:36:24] \"GET /static/bootstrap/js/bootstrap.min.js HTTP/1.1\" 304 -\n",
      "127.0.0.1 - - [28/Aug/2021 20:36:24] \"GET /static/chart/chart.js HTTP/1.1\" 304 -\n",
      "127.0.0.1 - - [28/Aug/2021 20:36:24] \"GET /static/jquery.js HTTP/1.1\" 304 -\n",
      "127.0.0.1 - - [28/Aug/2021 20:36:24] \"GET /static/bootstrap/js/bootstrap-datetimepicker.js HTTP/1.1\" 304 -\n",
      "127.0.0.1 - - [28/Aug/2021 20:36:24] \"GET /static/nicepage.js HTTP/1.1\" 304 -\n",
      "127.0.0.1 - - [28/Aug/2021 20:36:24] \"GET /static/images/1200px-Logo_of_the_Technical_University_of_Munich.svg.png HTTP/1.1\" 304 -\n",
      "127.0.0.1 - - [28/Aug/2021 20:36:24] \"GET /static/images/xswmin.jpg HTTP/1.1\" 304 -\n",
      "127.0.0.1 - - [28/Aug/2021 20:36:24] \"GET /static/images/s.jpg HTTP/1.1\" 304 -\n",
      "127.0.0.1 - - [28/Aug/2021 20:36:24] \"GET /static/images/0f6b177dcd294f041399c8af7caa849f1f29dae3a07ee1d0bf4248ad0c0f159c963322366d38a8286112c34d7c4a47b66072f8ee419c2f52366133_1280.jpg HTTP/1.1\" 304 -\n",
      "127.0.0.1 - - [28/Aug/2021 20:36:25] \"GET /static/bootstrap/fonts/glyphicons-halflings-regular.woff HTTP/1.1\" 304 -\n",
      "127.0.0.1 - - [28/Aug/2021 20:36:42] \"GET /getPrediction/?date=02/08/2021%20-%2020:00 HTTP/1.1\" 200 -\n",
      "127.0.0.1 - - [28/Aug/2021 20:36:42] \"GET /static/nicepage.css HTTP/1.1\" 304 -\n",
      "127.0.0.1 - - [28/Aug/2021 20:36:42] \"GET /static/Home.css HTTP/1.1\" 304 -\n",
      "127.0.0.1 - - [28/Aug/2021 20:36:42] \"GET /static/bootstrap/css/bootstrap.min.css HTTP/1.1\" 304 -\n",
      "127.0.0.1 - - [28/Aug/2021 20:36:42] \"GET /static/chart/chart.js HTTP/1.1\" 304 -\n",
      "127.0.0.1 - - [28/Aug/2021 20:36:42] \"GET /static/bootstrap/css/bootstrap-datetimepicker.min.css HTTP/1.1\" 304 -\n",
      "127.0.0.1 - - [28/Aug/2021 20:36:42] \"GET /static/bootstrap/js/bootstrap.min.js HTTP/1.1\" 304 -\n",
      "127.0.0.1 - - [28/Aug/2021 20:36:42] \"GET /static/jquery.js HTTP/1.1\" 304 -\n",
      "127.0.0.1 - - [28/Aug/2021 20:36:42] \"GET /static/bootstrap/js/bootstrap-datetimepicker.js HTTP/1.1\" 304 -\n",
      "127.0.0.1 - - [28/Aug/2021 20:36:42] \""
     ]
    },
    {
     "name": "stdout",
     "output_type": "stream",
     "text": [
      "02/08/2021 - 20:00\n"
     ]
    },
    {
     "name": "stderr",
     "output_type": "stream",
     "text": [
      "GET /static/nicepage.js HTTP/1.1\" 304 -\n",
      "127.0.0.1 - - [28/Aug/2021 20:36:42] \"GET /static/images/1200px-Logo_of_the_Technical_University_of_Munich.svg.png HTTP/1.1\" 304 -\n",
      "127.0.0.1 - - [28/Aug/2021 20:36:42] \"GET /static/images/xswmin.jpg HTTP/1.1\" 304 -\n",
      "127.0.0.1 - - [28/Aug/2021 20:36:42] \"GET /static/images/s.jpg HTTP/1.1\" 304 -\n",
      "127.0.0.1 - - [28/Aug/2021 20:36:42] \"GET /static/images/0f6b177dcd294f041399c8af7caa849f1f29dae3a07ee1d0bf4248ad0c0f159c963322366d38a8286112c34d7c4a47b66072f8ee419c2f52366133_1280.jpg HTTP/1.1\" 304 -\n",
      "127.0.0.1 - - [28/Aug/2021 20:36:42] \"GET /static/bootstrap/fonts/glyphicons-halflings-regular.woff HTTP/1.1\" 304 -\n"
     ]
    }
   ],
   "source": [
    "from flask import Flask, render_template, request\n",
    "import datetime\n",
    "#from werkzeug.utils import secure_filename\n",
    "\n",
    "app=Flask(__name__,template_folder='templates')\n",
    "\n",
    "@app.route('/', methods=['GET', 'POST'])\n",
    "#delete unnecessary methods\n",
    "#def home_page():\n",
    "\n",
    "#return render_template('index.html', title='Home')'''\n",
    "def getPrediction():\n",
    "    #date=\"\"\n",
    "    price_1h=0\n",
    "    price_1d=0\n",
    "    price_1w=0\n",
    "\n",
    "\n",
    "    if  request.method=='POST':\n",
    "        date=request.form['date']\n",
    "        if request.form['button']=='Predict':\n",
    "            print(date)\n",
    "            \n",
    "            #call the function\n",
    "            #prices=Yuchong's_function()\n",
    "            \n",
    "            #get price 1h ahead           \n",
    "            price_1h=5\n",
    "            \n",
    "            #get prices 1d ahead\n",
    "            price_1d=8\n",
    "            \n",
    "            #get prices 1w ahead\n",
    "            price_1w=11\n",
    "\n",
    "    return render_template('index.html', price_1h=price_1h, price_1d=price_1d, price_1w=price_1w)\n",
    "\n",
    "\n",
    "@app.route('/getPrediction/')\n",
    "def getPrediction_By_Date():\n",
    "    # initial the value\n",
    "    price_1h, price_1d, price_1w = 0,0,0\n",
    "    date = datetime.datetime.now()\n",
    "    \n",
    "    if(request.args.get('date')):\n",
    "\n",
    "        # get the chosen date\n",
    "        date = request.args.get('date')\n",
    "\n",
    "        # get price 1h ahead\n",
    "        price_1h = 5\n",
    "\n",
    "        # get prices 1d ahead\n",
    "        price_1d = 8\n",
    "\n",
    "        # get prices 1w ahead\n",
    "        price_1w = 3\n",
    "\n",
    "    print(date)\n",
    "    return render_template('index.html', date=date, price_1h=price_1h, price_1d=price_1d, price_1w=price_1w)\n",
    "\n",
    "if __name__=='__main__':\n",
    "    app.run(port=8309)"
   ]
  },
  {
   "cell_type": "code",
   "execution_count": null,
   "id": "cfc7b59b",
   "metadata": {},
   "outputs": [],
   "source": []
  }
 ],
 "metadata": {
  "kernelspec": {
   "display_name": "Python 3 (ipykernel)",
   "language": "python",
   "name": "python3"
  },
  "language_info": {
   "codemirror_mode": {
    "name": "ipython",
    "version": 3
   },
   "file_extension": ".py",
   "mimetype": "text/x-python",
   "name": "python",
   "nbconvert_exporter": "python",
   "pygments_lexer": "ipython3",
   "version": "3.9.6"
  }
 },
 "nbformat": 4,
 "nbformat_minor": 5
}
